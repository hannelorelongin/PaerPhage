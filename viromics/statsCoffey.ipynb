{
 "cells": [
  {
   "cell_type": "markdown",
   "metadata": {},
   "source": [
    "# Statistical analysis on Coffey dataset\n",
    "## Testing read depth information, combined for all 20 genomes\n",
    "\n",
    "### 1: Importing the data"
   ]
  },
  {
   "cell_type": "code",
   "execution_count": 1,
   "metadata": {},
   "outputs": [],
   "source": [
    "import warnings\n",
    "warnings.filterwarnings('ignore') ##don't show the warnings for the phage fields"
   ]
  },
  {
   "cell_type": "code",
   "execution_count": 2,
   "metadata": {},
   "outputs": [],
   "source": [
    "import pandas as pd"
   ]
  },
  {
   "cell_type": "code",
   "execution_count": 3,
   "metadata": {},
   "outputs": [],
   "source": [
    "dfPaLo3 = pd.read_csv(\"all2PaLo3.cov.tsv\",sep=\"\\t\", index_col = 0)\n",
    "dfPaLo4 = pd.read_csv(\"all2PaLo4.cov.tsv\",sep=\"\\t\", index_col = 0)\n",
    "dfPaLo8 = pd.read_csv(\"all2PaLo8.cov.tsv\",sep=\"\\t\", index_col = 0)\n",
    "dfPaLo9 = pd.read_csv(\"all2PaLo9.cov.tsv\",sep=\"\\t\", index_col = 0)\n",
    "dfPaLo11 = pd.read_csv(\"all2PaLo11.cov.tsv\",sep=\"\\t\", index_col = 0)\n",
    "dfPaLo12 = pd.read_csv(\"all2PaLo12.cov.tsv\",sep=\"\\t\", index_col = 0)\n",
    "dfPaLo30 = pd.read_csv(\"all2PaLo30.cov.tsv\",sep=\"\\t\", index_col = 0)\n",
    "dfPaLo32 = pd.read_csv(\"all2PaLo32.cov.tsv\",sep=\"\\t\", index_col = 0)\n",
    "dfPaLo33 = pd.read_csv(\"all2PaLo33.cov.tsv\",sep=\"\\t\", index_col = 0)\n",
    "dfPaLo34 = pd.read_csv(\"all2PaLo34.cov.tsv\",sep=\"\\t\", index_col = 0)\n",
    "dfPaLo38 = pd.read_csv(\"all2PaLo38.cov.tsv\",sep=\"\\t\", index_col = 0)\n",
    "dfPaLo39 = pd.read_csv(\"all2PaLo39.cov.tsv\",sep=\"\\t\", index_col = 0)\n",
    "dfPaLo40 = pd.read_csv(\"all2PaLo40.cov.tsv\",sep=\"\\t\", index_col = 0)\n",
    "dfPaLo41 = pd.read_csv(\"all2PaLo41.cov.tsv\",sep=\"\\t\", index_col = 0)\n",
    "dfPaLo42 = pd.read_csv(\"all2PaLo42.cov.tsv\",sep=\"\\t\", index_col = 0)\n",
    "dfPaLo43 = pd.read_csv(\"all2PaLo43.cov.tsv\",sep=\"\\t\", index_col = 0)\n",
    "dfPaLo44 = pd.read_csv(\"all2PaLo44.cov.tsv\",sep=\"\\t\", index_col = 0)\n",
    "dfPaLo45 = pd.read_csv(\"all2PaLo45.cov.tsv\",sep=\"\\t\", index_col = 0)\n",
    "dfPaLo46 = pd.read_csv(\"all2PaLo46.cov.tsv\",sep=\"\\t\", index_col = 0)\n",
    "dfPaLo47 = pd.read_csv(\"all2PaLo47.cov.tsv\",sep=\"\\t\", index_col = 0)"
   ]
  },
  {
   "cell_type": "markdown",
   "metadata": {},
   "source": [
    "### 2: Creating smaller dataset with only 2 parameters of interest"
   ]
  },
  {
   "cell_type": "code",
   "execution_count": 4,
   "metadata": {},
   "outputs": [],
   "source": [
    "df3FoldPhage = dfPaLo3[['fold', 'phage']]\n",
    "df4FoldPhage = dfPaLo4[['fold', 'phage']]\n",
    "df8FoldPhage = dfPaLo8[['fold', 'phage']]\n",
    "df9FoldPhage = dfPaLo9[['fold', 'phage']]\n",
    "df11FoldPhage = dfPaLo11[['fold', 'phage']]\n",
    "df12FoldPhage = dfPaLo12[['fold', 'phage']]\n",
    "df30FoldPhage = dfPaLo30[['fold', 'phage']]\n",
    "df32FoldPhage = dfPaLo32[['fold', 'phage']]\n",
    "df33FoldPhage = dfPaLo33[['fold', 'phage']]\n",
    "df34FoldPhage = dfPaLo34[['fold', 'phage']]\n",
    "df38FoldPhage = dfPaLo38[['fold', 'phage']]\n",
    "df39FoldPhage = dfPaLo39[['fold', 'phage']]\n",
    "df40FoldPhage = dfPaLo40[['fold', 'phage']]\n",
    "df41FoldPhage = dfPaLo41[['fold', 'phage']]\n",
    "df42FoldPhage = dfPaLo42[['fold', 'phage']]\n",
    "df43FoldPhage = dfPaLo43[['fold', 'phage']]\n",
    "df44FoldPhage = dfPaLo44[['fold', 'phage']]\n",
    "df45FoldPhage = dfPaLo45[['fold', 'phage']]\n",
    "df46FoldPhage = dfPaLo46[['fold', 'phage']]\n",
    "df47FoldPhage = dfPaLo47[['fold', 'phage']]"
   ]
  },
  {
   "cell_type": "code",
   "execution_count": 5,
   "metadata": {},
   "outputs": [],
   "source": [
    "df3FoldPhage[\"phage\"]=df3FoldPhage[\"phage\"].astype(\"category\")\n",
    "df4FoldPhage[\"phage\"]=df4FoldPhage[\"phage\"].astype(\"category\")\n",
    "df8FoldPhage[\"phage\"]=df8FoldPhage[\"phage\"].astype(\"category\")\n",
    "df9FoldPhage[\"phage\"]=df9FoldPhage[\"phage\"].astype(\"category\")\n",
    "df11FoldPhage[\"phage\"]=df11FoldPhage[\"phage\"].astype(\"category\")\n",
    "df12FoldPhage[\"phage\"]=df12FoldPhage[\"phage\"].astype(\"category\")\n",
    "df30FoldPhage[\"phage\"]=df30FoldPhage[\"phage\"].astype(\"category\")\n",
    "df32FoldPhage[\"phage\"]=df32FoldPhage[\"phage\"].astype(\"category\")\n",
    "df33FoldPhage[\"phage\"]=df33FoldPhage[\"phage\"].astype(\"category\")\n",
    "df34FoldPhage[\"phage\"]=df34FoldPhage[\"phage\"].astype(\"category\")\n",
    "df38FoldPhage[\"phage\"]=df38FoldPhage[\"phage\"].astype(\"category\")\n",
    "df39FoldPhage[\"phage\"]=df39FoldPhage[\"phage\"].astype(\"category\")\n",
    "df40FoldPhage[\"phage\"]=df40FoldPhage[\"phage\"].astype(\"category\")\n",
    "df41FoldPhage[\"phage\"]=df41FoldPhage[\"phage\"].astype(\"category\")\n",
    "df42FoldPhage[\"phage\"]=df42FoldPhage[\"phage\"].astype(\"category\")\n",
    "df43FoldPhage[\"phage\"]=df43FoldPhage[\"phage\"].astype(\"category\")\n",
    "df44FoldPhage[\"phage\"]=df44FoldPhage[\"phage\"].astype(\"category\")\n",
    "df45FoldPhage[\"phage\"]=df45FoldPhage[\"phage\"].astype(\"category\")\n",
    "df46FoldPhage[\"phage\"]=df46FoldPhage[\"phage\"].astype(\"category\")\n",
    "df47FoldPhage[\"phage\"]=df47FoldPhage[\"phage\"].astype(\"category\")"
   ]
  },
  {
   "cell_type": "markdown",
   "metadata": {},
   "source": [
    "### 3: Combining all data into 1 dataframe"
   ]
  },
  {
   "cell_type": "code",
   "execution_count": 6,
   "metadata": {},
   "outputs": [],
   "source": [
    "df = df3FoldPhage.append(df4FoldPhage)\n",
    "df = df.append(df8FoldPhage)\n",
    "df = df.append(df9FoldPhage)\n",
    "df = df.append(df11FoldPhage)\n",
    "df = df.append(df12FoldPhage)\n",
    "df = df.append(df30FoldPhage)\n",
    "df = df.append(df32FoldPhage)\n",
    "df = df.append(df33FoldPhage)\n",
    "df = df.append(df34FoldPhage)\n",
    "df = df.append(df38FoldPhage)\n",
    "df = df.append(df39FoldPhage)\n",
    "df = df.append(df40FoldPhage)\n",
    "df = df.append(df41FoldPhage)\n",
    "df = df.append(df42FoldPhage)\n",
    "df = df.append(df43FoldPhage)\n",
    "df = df.append(df44FoldPhage)\n",
    "df = df.append(df45FoldPhage)\n",
    "df = df.append(df46FoldPhage)\n",
    "df = df.append(df47FoldPhage)"
   ]
  },
  {
   "cell_type": "markdown",
   "metadata": {},
   "source": [
    "### 4: Creating seperate arrays of the information regarding the relative depth for (non) phage"
   ]
  },
  {
   "cell_type": "code",
   "execution_count": 7,
   "metadata": {},
   "outputs": [],
   "source": [
    "noneArr = df[df[\"phage\"]==\"none\"][\"fold\"].to_numpy()"
   ]
  },
  {
   "cell_type": "code",
   "execution_count": 8,
   "metadata": {},
   "outputs": [],
   "source": [
    "phageArr = df[df[\"phage\"]!=\"none\"][\"fold\"].to_numpy()"
   ]
  },
  {
   "cell_type": "markdown",
   "metadata": {},
   "source": [
    "### 5: Actual statistics"
   ]
  },
  {
   "cell_type": "code",
   "execution_count": 9,
   "metadata": {},
   "outputs": [],
   "source": [
    "import scipy.stats\n",
    "import numpy as np"
   ]
  },
  {
   "cell_type": "markdown",
   "metadata": {},
   "source": [
    "1. Calculating means & medians"
   ]
  },
  {
   "cell_type": "code",
   "execution_count": 10,
   "metadata": {},
   "outputs": [
    {
     "name": "stdout",
     "output_type": "stream",
     "text": [
      "0.07419857003423637\n",
      "0.0\n"
     ]
    }
   ],
   "source": [
    "print(np.mean(phageArr))\n",
    "print(np.median(phageArr))"
   ]
  },
  {
   "cell_type": "code",
   "execution_count": 11,
   "metadata": {},
   "outputs": [
    {
     "name": "stdout",
     "output_type": "stream",
     "text": [
      "1.0156070267745712\n",
      "0.0\n"
     ]
    }
   ],
   "source": [
    "print(np.mean(noneArr))\n",
    "print(np.median(noneArr))"
   ]
  },
  {
   "cell_type": "markdown",
   "metadata": {},
   "source": [
    "2. Testing normality"
   ]
  },
  {
   "cell_type": "code",
   "execution_count": 12,
   "metadata": {},
   "outputs": [
    {
     "data": {
      "text/plain": [
       "NormaltestResult(statistic=11073260.003415909, pvalue=0.0)"
      ]
     },
     "execution_count": 12,
     "metadata": {},
     "output_type": "execute_result"
    }
   ],
   "source": [
    "scipy.stats.normaltest(phageArr) ##very non-normal"
   ]
  },
  {
   "cell_type": "code",
   "execution_count": 13,
   "metadata": {},
   "outputs": [
    {
     "data": {
      "text/plain": [
       "NormaltestResult(statistic=318137036.4512175, pvalue=0.0)"
      ]
     },
     "execution_count": 13,
     "metadata": {},
     "output_type": "execute_result"
    }
   ],
   "source": [
    "scipy.stats.normaltest(noneArr) ##very non-normal"
   ]
  },
  {
   "cell_type": "markdown",
   "metadata": {},
   "source": [
    "3. Testing for differences in means between the two populations\n",
    "    - Mann-Whitney U test = Wilcoxon rank-sum test with tie handling and arrays of different sizes in  Python"
   ]
  },
  {
   "cell_type": "code",
   "execution_count": 14,
   "metadata": {},
   "outputs": [
    {
     "data": {
      "text/plain": [
       "MannwhitneyuResult(statistic=147348188350707.0, pvalue=0.0)"
      ]
     },
     "execution_count": 14,
     "metadata": {},
     "output_type": "execute_result"
    }
   ],
   "source": [
    "scipy.stats.mannwhitneyu(noneArr,phageArr,alternative=\"two-sided\") ##two-sided - very significant"
   ]
  },
  {
   "cell_type": "code",
   "execution_count": 15,
   "metadata": {},
   "outputs": [
    {
     "data": {
      "text/plain": [
       "MannwhitneyuResult(statistic=147348188350707.0, pvalue=0.0)"
      ]
     },
     "execution_count": 15,
     "metadata": {},
     "output_type": "execute_result"
    }
   ],
   "source": [
    "scipy.stats.mannwhitneyu(noneArr,phageArr,alternative=\"greater\") ##checking if depth is greater in phage regions - very significant"
   ]
  },
  {
   "cell_type": "markdown",
   "metadata": {},
   "source": [
    "### 6: Plotting\n",
    "\n",
    "1. Add column for binary phage presence"
   ]
  },
  {
   "cell_type": "code",
   "execution_count": 16,
   "metadata": {},
   "outputs": [],
   "source": [
    "df[\"phagePresent\"]= np.where(df.phage != \"none\", True, False)"
   ]
  },
  {
   "cell_type": "markdown",
   "metadata": {},
   "source": [
    "2. Boxplot: phage presence vs fold"
   ]
  },
  {
   "cell_type": "code",
   "execution_count": 17,
   "metadata": {},
   "outputs": [
    {
     "data": {
      "text/plain": [
       "<matplotlib.axes._subplots.AxesSubplot at 0x1bbf5faa8c8>"
      ]
     },
     "execution_count": 17,
     "metadata": {},
     "output_type": "execute_result"
    },
    {
     "data": {
      "image/png": "[encoded data removed]",
      "text/plain": [
       "<Figure size 432x288 with 1 Axes>"
      ]
     },
     "metadata": {
      "needs_background": "light"
     },
     "output_type": "display_data"
    }
   ],
   "source": [
    "import seaborn \n",
    "seaborn.boxplot(x='phagePresent', y='fold', data=df, showfliers=False, palette='PuRd_r')"
   ]
  },
  {
   "cell_type": "code",
   "execution_count": 18,
   "metadata": {},
   "outputs": [
    {
     "data": {
      "text/plain": [
       "<matplotlib.axes._subplots.AxesSubplot at 0x1bc897761c8>"
      ]
     },
     "execution_count": 18,
     "metadata": {},
     "output_type": "execute_result"
    },
    {
     "data": {
      "image/png": "[encoded data removed]",
      "text/plain": [
       "<Figure size 432x288 with 1 Axes>"
      ]
     },
     "metadata": {
      "needs_background": "light"
     },
     "output_type": "display_data"
    }
   ],
   "source": [
    "seaborn.boxplot(x='phagePresent', y='fold', data=df, showfliers=True, palette='PuRd_r')"
   ]
  },
  {
   "cell_type": "code",
   "execution_count": 19,
   "metadata": {},
   "outputs": [
    {
     "data": {
      "text/plain": [
       "<matplotlib.axes._subplots.AxesSubplot at 0x1bc8a899fc8>"
      ]
     },
     "execution_count": 19,
     "metadata": {},
     "output_type": "execute_result"
    },
    {
     "data": {
      "image/png": "[encoded data removed]",
      "text/plain": [
       "<Figure size 432x288 with 1 Axes>"
      ]
     },
     "metadata": {
      "needs_background": "light"
     },
     "output_type": "display_data"
    }
   ],
   "source": [
    "seaborn.boxplot(x='phage', y='fold', data=df, showfliers=True, palette='PuRd_r')"
   ]
  }
 ],
 "metadata": {
  "kernelspec": {
   "display_name": "Python 3",
   "language": "python",
   "name": "python3"
  },
  "language_info": {
   "codemirror_mode": {
    "name": "ipython",
    "version": 3
   },
   "file_extension": ".py",
   "mimetype": "text/x-python",
   "name": "python",
   "nbconvert_exporter": "python",
   "pygments_lexer": "ipython3",
   "version": "3.7.6"
  }
 },
 "nbformat": 4,
 "nbformat_minor": 4
}
