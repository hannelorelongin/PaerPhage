{
 "cells": [
  {
   "cell_type": "markdown",
   "metadata": {},
   "source": [
    "# Statistical analysis on Tariq dataset\n",
    "## Testing read depth information, combined for all 20 genomes\n",
    "\n",
    "### 1: Importing the data"
   ]
  },
  {
   "cell_type": "code",
   "execution_count": 1,
   "metadata": {},
   "outputs": [],
   "source": [
    "import pandas as pd"
   ]
  },
  {
   "cell_type": "code",
   "execution_count": 2,
   "metadata": {},
   "outputs": [
    {
     "name": "stderr",
     "output_type": "stream",
     "text": [
      "C:\\Users\\hanne\\anaconda3\\lib\\site-packages\\IPython\\core\\interactiveshell.py:3063: DtypeWarning: Columns (5,6,7,8,9,10,11,12) have mixed types.Specify dtype option on import or set low_memory=False.\n",
      "  interactivity=interactivity, compiler=compiler, result=result)\n",
      "C:\\Users\\hanne\\anaconda3\\lib\\site-packages\\numpy\\lib\\arraysetops.py:569: FutureWarning: elementwise comparison failed; returning scalar instead, but in the future will perform elementwise comparison\n",
      "  mask |= (ar1 == a)\n",
      "C:\\Users\\hanne\\anaconda3\\lib\\site-packages\\IPython\\core\\interactiveshell.py:3063: DtypeWarning: Columns (5,6,7,8,9,10) have mixed types.Specify dtype option on import or set low_memory=False.\n",
      "  interactivity=interactivity, compiler=compiler, result=result)\n",
      "C:\\Users\\hanne\\anaconda3\\lib\\site-packages\\IPython\\core\\interactiveshell.py:3063: DtypeWarning: Columns (5,6,7,8,9,10,11) have mixed types.Specify dtype option on import or set low_memory=False.\n",
      "  interactivity=interactivity, compiler=compiler, result=result)\n",
      "C:\\Users\\hanne\\anaconda3\\lib\\site-packages\\IPython\\core\\interactiveshell.py:3063: DtypeWarning: Columns (5,6,7,8,9) have mixed types.Specify dtype option on import or set low_memory=False.\n",
      "  interactivity=interactivity, compiler=compiler, result=result)\n",
      "C:\\Users\\hanne\\anaconda3\\lib\\site-packages\\IPython\\core\\interactiveshell.py:3063: DtypeWarning: Columns (5,6,7,8) have mixed types.Specify dtype option on import or set low_memory=False.\n",
      "  interactivity=interactivity, compiler=compiler, result=result)\n",
      "C:\\Users\\hanne\\anaconda3\\lib\\site-packages\\IPython\\core\\interactiveshell.py:3063: DtypeWarning: Columns (5,6,7) have mixed types.Specify dtype option on import or set low_memory=False.\n",
      "  interactivity=interactivity, compiler=compiler, result=result)\n"
     ]
    }
   ],
   "source": [
    "dfPaLo3 = pd.read_csv(\"all2PaLo3.cov.tsv\",sep=\"\\t\", index_col = 0)\n",
    "dfPaLo4 = pd.read_csv(\"all2PaLo4.cov.tsv\",sep=\"\\t\", index_col = 0)\n",
    "dfPaLo8 = pd.read_csv(\"all2PaLo8.cov.tsv\",sep=\"\\t\", index_col = 0)\n",
    "dfPaLo9 = pd.read_csv(\"all2PaLo9.cov.tsv\",sep=\"\\t\", index_col = 0)\n",
    "dfPaLo11 = pd.read_csv(\"all2PaLo11.cov.tsv\",sep=\"\\t\", index_col = 0)\n",
    "dfPaLo12 = pd.read_csv(\"all2PaLo12.cov.tsv\",sep=\"\\t\", index_col = 0)\n",
    "dfPaLo30 = pd.read_csv(\"all2PaLo30.cov.tsv\",sep=\"\\t\", index_col = 0)\n",
    "dfPaLo32 = pd.read_csv(\"all2PaLo32.cov.tsv\",sep=\"\\t\", index_col = 0)\n",
    "dfPaLo33 = pd.read_csv(\"all2PaLo33.cov.tsv\",sep=\"\\t\", index_col = 0)\n",
    "dfPaLo34 = pd.read_csv(\"all2PaLo34.cov.tsv\",sep=\"\\t\", index_col = 0)\n",
    "dfPaLo38 = pd.read_csv(\"all2PaLo38.cov.tsv\",sep=\"\\t\", index_col = 0)\n",
    "dfPaLo39 = pd.read_csv(\"all2PaLo39.cov.tsv\",sep=\"\\t\", index_col = 0)\n",
    "dfPaLo40 = pd.read_csv(\"all2PaLo40.cov.tsv\",sep=\"\\t\", index_col = 0)\n",
    "dfPaLo41 = pd.read_csv(\"all2PaLo41.cov.tsv\",sep=\"\\t\", index_col = 0)\n",
    "dfPaLo42 = pd.read_csv(\"all2PaLo42.cov.tsv\",sep=\"\\t\", index_col = 0)\n",
    "dfPaLo43 = pd.read_csv(\"all2PaLo43.cov.tsv\",sep=\"\\t\", index_col = 0)\n",
    "dfPaLo44 = pd.read_csv(\"all2PaLo44.cov.tsv\",sep=\"\\t\", index_col = 0)\n",
    "dfPaLo45 = pd.read_csv(\"all2PaLo45.cov.tsv\",sep=\"\\t\", index_col = 0)\n",
    "dfPaLo46 = pd.read_csv(\"all2PaLo46.cov.tsv\",sep=\"\\t\", index_col = 0)\n",
    "dfPaLo47 = pd.read_csv(\"all2PaLo47.cov.tsv\",sep=\"\\t\", index_col = 0)"
   ]
  },
  {
   "cell_type": "markdown",
   "metadata": {},
   "source": [
    "### 2: Creating smaller dataset with only 2 parameters of interest"
   ]
  },
  {
   "cell_type": "code",
   "execution_count": 3,
   "metadata": {},
   "outputs": [],
   "source": [
    "df3FoldPhage = dfPaLo3[['fold', 'phage']]\n",
    "df4FoldPhage = dfPaLo4[['fold', 'phage']]\n",
    "df8FoldPhage = dfPaLo8[['fold', 'phage']]\n",
    "df9FoldPhage = dfPaLo9[['fold', 'phage']]\n",
    "df11FoldPhage = dfPaLo11[['fold', 'phage']]\n",
    "df12FoldPhage = dfPaLo12[['fold', 'phage']]\n",
    "df30FoldPhage = dfPaLo30[['fold', 'phage']]\n",
    "df32FoldPhage = dfPaLo32[['fold', 'phage']]\n",
    "df33FoldPhage = dfPaLo33[['fold', 'phage']]\n",
    "df34FoldPhage = dfPaLo34[['fold', 'phage']]\n",
    "df38FoldPhage = dfPaLo38[['fold', 'phage']]\n",
    "df39FoldPhage = dfPaLo39[['fold', 'phage']]\n",
    "df40FoldPhage = dfPaLo40[['fold', 'phage']]\n",
    "df41FoldPhage = dfPaLo41[['fold', 'phage']]\n",
    "df42FoldPhage = dfPaLo42[['fold', 'phage']]\n",
    "df43FoldPhage = dfPaLo43[['fold', 'phage']]\n",
    "df44FoldPhage = dfPaLo44[['fold', 'phage']]\n",
    "df45FoldPhage = dfPaLo45[['fold', 'phage']]\n",
    "df46FoldPhage = dfPaLo46[['fold', 'phage']]\n",
    "df47FoldPhage = dfPaLo47[['fold', 'phage']]"
   ]
  },
  {
   "cell_type": "code",
   "execution_count": 4,
   "metadata": {},
   "outputs": [
    {
     "name": "stderr",
     "output_type": "stream",
     "text": [
      "C:\\Users\\hanne\\anaconda3\\lib\\site-packages\\ipykernel_launcher.py:1: SettingWithCopyWarning: \n",
      "A value is trying to be set on a copy of a slice from a DataFrame.\n",
      "Try using .loc[row_indexer,col_indexer] = value instead\n",
      "\n",
      "See the caveats in the documentation: https://pandas.pydata.org/pandas-docs/stable/user_guide/indexing.html#returning-a-view-versus-a-copy\n",
      "  \"\"\"Entry point for launching an IPython kernel.\n",
      "C:\\Users\\hanne\\anaconda3\\lib\\site-packages\\ipykernel_launcher.py:2: SettingWithCopyWarning: \n",
      "A value is trying to be set on a copy of a slice from a DataFrame.\n",
      "Try using .loc[row_indexer,col_indexer] = value instead\n",
      "\n",
      "See the caveats in the documentation: https://pandas.pydata.org/pandas-docs/stable/user_guide/indexing.html#returning-a-view-versus-a-copy\n",
      "  \n",
      "C:\\Users\\hanne\\anaconda3\\lib\\site-packages\\ipykernel_launcher.py:3: SettingWithCopyWarning: \n",
      "A value is trying to be set on a copy of a slice from a DataFrame.\n",
      "Try using .loc[row_indexer,col_indexer] = value instead\n",
      "\n",
      "See the caveats in the documentation: https://pandas.pydata.org/pandas-docs/stable/user_guide/indexing.html#returning-a-view-versus-a-copy\n",
      "  This is separate from the ipykernel package so we can avoid doing imports until\n",
      "C:\\Users\\hanne\\anaconda3\\lib\\site-packages\\ipykernel_launcher.py:4: SettingWithCopyWarning: \n",
      "A value is trying to be set on a copy of a slice from a DataFrame.\n",
      "Try using .loc[row_indexer,col_indexer] = value instead\n",
      "\n",
      "See the caveats in the documentation: https://pandas.pydata.org/pandas-docs/stable/user_guide/indexing.html#returning-a-view-versus-a-copy\n",
      "  after removing the cwd from sys.path.\n",
      "C:\\Users\\hanne\\anaconda3\\lib\\site-packages\\ipykernel_launcher.py:5: SettingWithCopyWarning: \n",
      "A value is trying to be set on a copy of a slice from a DataFrame.\n",
      "Try using .loc[row_indexer,col_indexer] = value instead\n",
      "\n",
      "See the caveats in the documentation: https://pandas.pydata.org/pandas-docs/stable/user_guide/indexing.html#returning-a-view-versus-a-copy\n",
      "  \"\"\"\n",
      "C:\\Users\\hanne\\anaconda3\\lib\\site-packages\\ipykernel_launcher.py:6: SettingWithCopyWarning: \n",
      "A value is trying to be set on a copy of a slice from a DataFrame.\n",
      "Try using .loc[row_indexer,col_indexer] = value instead\n",
      "\n",
      "See the caveats in the documentation: https://pandas.pydata.org/pandas-docs/stable/user_guide/indexing.html#returning-a-view-versus-a-copy\n",
      "  \n",
      "C:\\Users\\hanne\\anaconda3\\lib\\site-packages\\ipykernel_launcher.py:7: SettingWithCopyWarning: \n",
      "A value is trying to be set on a copy of a slice from a DataFrame.\n",
      "Try using .loc[row_indexer,col_indexer] = value instead\n",
      "\n",
      "See the caveats in the documentation: https://pandas.pydata.org/pandas-docs/stable/user_guide/indexing.html#returning-a-view-versus-a-copy\n",
      "  import sys\n",
      "C:\\Users\\hanne\\anaconda3\\lib\\site-packages\\ipykernel_launcher.py:8: SettingWithCopyWarning: \n",
      "A value is trying to be set on a copy of a slice from a DataFrame.\n",
      "Try using .loc[row_indexer,col_indexer] = value instead\n",
      "\n",
      "See the caveats in the documentation: https://pandas.pydata.org/pandas-docs/stable/user_guide/indexing.html#returning-a-view-versus-a-copy\n",
      "  \n",
      "C:\\Users\\hanne\\anaconda3\\lib\\site-packages\\ipykernel_launcher.py:9: SettingWithCopyWarning: \n",
      "A value is trying to be set on a copy of a slice from a DataFrame.\n",
      "Try using .loc[row_indexer,col_indexer] = value instead\n",
      "\n",
      "See the caveats in the documentation: https://pandas.pydata.org/pandas-docs/stable/user_guide/indexing.html#returning-a-view-versus-a-copy\n",
      "  if __name__ == '__main__':\n",
      "C:\\Users\\hanne\\anaconda3\\lib\\site-packages\\ipykernel_launcher.py:10: SettingWithCopyWarning: \n",
      "A value is trying to be set on a copy of a slice from a DataFrame.\n",
      "Try using .loc[row_indexer,col_indexer] = value instead\n",
      "\n",
      "See the caveats in the documentation: https://pandas.pydata.org/pandas-docs/stable/user_guide/indexing.html#returning-a-view-versus-a-copy\n",
      "  # Remove the CWD from sys.path while we load stuff.\n",
      "C:\\Users\\hanne\\anaconda3\\lib\\site-packages\\ipykernel_launcher.py:11: SettingWithCopyWarning: \n",
      "A value is trying to be set on a copy of a slice from a DataFrame.\n",
      "Try using .loc[row_indexer,col_indexer] = value instead\n",
      "\n",
      "See the caveats in the documentation: https://pandas.pydata.org/pandas-docs/stable/user_guide/indexing.html#returning-a-view-versus-a-copy\n",
      "  # This is added back by InteractiveShellApp.init_path()\n",
      "C:\\Users\\hanne\\anaconda3\\lib\\site-packages\\ipykernel_launcher.py:12: SettingWithCopyWarning: \n",
      "A value is trying to be set on a copy of a slice from a DataFrame.\n",
      "Try using .loc[row_indexer,col_indexer] = value instead\n",
      "\n",
      "See the caveats in the documentation: https://pandas.pydata.org/pandas-docs/stable/user_guide/indexing.html#returning-a-view-versus-a-copy\n",
      "  if sys.path[0] == '':\n",
      "C:\\Users\\hanne\\anaconda3\\lib\\site-packages\\ipykernel_launcher.py:13: SettingWithCopyWarning: \n",
      "A value is trying to be set on a copy of a slice from a DataFrame.\n",
      "Try using .loc[row_indexer,col_indexer] = value instead\n",
      "\n",
      "See the caveats in the documentation: https://pandas.pydata.org/pandas-docs/stable/user_guide/indexing.html#returning-a-view-versus-a-copy\n",
      "  del sys.path[0]\n",
      "C:\\Users\\hanne\\anaconda3\\lib\\site-packages\\ipykernel_launcher.py:14: SettingWithCopyWarning: \n",
      "A value is trying to be set on a copy of a slice from a DataFrame.\n",
      "Try using .loc[row_indexer,col_indexer] = value instead\n",
      "\n",
      "See the caveats in the documentation: https://pandas.pydata.org/pandas-docs/stable/user_guide/indexing.html#returning-a-view-versus-a-copy\n",
      "  \n",
      "C:\\Users\\hanne\\anaconda3\\lib\\site-packages\\ipykernel_launcher.py:15: SettingWithCopyWarning: \n",
      "A value is trying to be set on a copy of a slice from a DataFrame.\n",
      "Try using .loc[row_indexer,col_indexer] = value instead\n",
      "\n",
      "See the caveats in the documentation: https://pandas.pydata.org/pandas-docs/stable/user_guide/indexing.html#returning-a-view-versus-a-copy\n",
      "  from ipykernel import kernelapp as app\n",
      "C:\\Users\\hanne\\anaconda3\\lib\\site-packages\\ipykernel_launcher.py:16: SettingWithCopyWarning: \n",
      "A value is trying to be set on a copy of a slice from a DataFrame.\n",
      "Try using .loc[row_indexer,col_indexer] = value instead\n",
      "\n",
      "See the caveats in the documentation: https://pandas.pydata.org/pandas-docs/stable/user_guide/indexing.html#returning-a-view-versus-a-copy\n",
      "  app.launch_new_instance()\n",
      "C:\\Users\\hanne\\anaconda3\\lib\\site-packages\\ipykernel_launcher.py:17: SettingWithCopyWarning: \n",
      "A value is trying to be set on a copy of a slice from a DataFrame.\n",
      "Try using .loc[row_indexer,col_indexer] = value instead\n",
      "\n",
      "See the caveats in the documentation: https://pandas.pydata.org/pandas-docs/stable/user_guide/indexing.html#returning-a-view-versus-a-copy\n",
      "C:\\Users\\hanne\\anaconda3\\lib\\site-packages\\ipykernel_launcher.py:18: SettingWithCopyWarning: \n",
      "A value is trying to be set on a copy of a slice from a DataFrame.\n",
      "Try using .loc[row_indexer,col_indexer] = value instead\n",
      "\n",
      "See the caveats in the documentation: https://pandas.pydata.org/pandas-docs/stable/user_guide/indexing.html#returning-a-view-versus-a-copy\n",
      "C:\\Users\\hanne\\anaconda3\\lib\\site-packages\\ipykernel_launcher.py:19: SettingWithCopyWarning: \n",
      "A value is trying to be set on a copy of a slice from a DataFrame.\n",
      "Try using .loc[row_indexer,col_indexer] = value instead\n",
      "\n",
      "See the caveats in the documentation: https://pandas.pydata.org/pandas-docs/stable/user_guide/indexing.html#returning-a-view-versus-a-copy\n",
      "C:\\Users\\hanne\\anaconda3\\lib\\site-packages\\ipykernel_launcher.py:20: SettingWithCopyWarning: \n",
      "A value is trying to be set on a copy of a slice from a DataFrame.\n",
      "Try using .loc[row_indexer,col_indexer] = value instead\n",
      "\n",
      "See the caveats in the documentation: https://pandas.pydata.org/pandas-docs/stable/user_guide/indexing.html#returning-a-view-versus-a-copy\n"
     ]
    }
   ],
   "source": [
    "df3FoldPhage[\"phage\"]=df3FoldPhage[\"phage\"].astype(\"category\")\n",
    "df4FoldPhage[\"phage\"]=df4FoldPhage[\"phage\"].astype(\"category\")\n",
    "df8FoldPhage[\"phage\"]=df8FoldPhage[\"phage\"].astype(\"category\")\n",
    "df9FoldPhage[\"phage\"]=df9FoldPhage[\"phage\"].astype(\"category\")\n",
    "df11FoldPhage[\"phage\"]=df11FoldPhage[\"phage\"].astype(\"category\")\n",
    "df12FoldPhage[\"phage\"]=df12FoldPhage[\"phage\"].astype(\"category\")\n",
    "df30FoldPhage[\"phage\"]=df30FoldPhage[\"phage\"].astype(\"category\")\n",
    "df32FoldPhage[\"phage\"]=df32FoldPhage[\"phage\"].astype(\"category\")\n",
    "df33FoldPhage[\"phage\"]=df33FoldPhage[\"phage\"].astype(\"category\")\n",
    "df34FoldPhage[\"phage\"]=df34FoldPhage[\"phage\"].astype(\"category\")\n",
    "df38FoldPhage[\"phage\"]=df38FoldPhage[\"phage\"].astype(\"category\")\n",
    "df39FoldPhage[\"phage\"]=df39FoldPhage[\"phage\"].astype(\"category\")\n",
    "df40FoldPhage[\"phage\"]=df40FoldPhage[\"phage\"].astype(\"category\")\n",
    "df41FoldPhage[\"phage\"]=df41FoldPhage[\"phage\"].astype(\"category\")\n",
    "df42FoldPhage[\"phage\"]=df42FoldPhage[\"phage\"].astype(\"category\")\n",
    "df43FoldPhage[\"phage\"]=df43FoldPhage[\"phage\"].astype(\"category\")\n",
    "df44FoldPhage[\"phage\"]=df44FoldPhage[\"phage\"].astype(\"category\")\n",
    "df45FoldPhage[\"phage\"]=df45FoldPhage[\"phage\"].astype(\"category\")\n",
    "df46FoldPhage[\"phage\"]=df46FoldPhage[\"phage\"].astype(\"category\")\n",
    "df47FoldPhage[\"phage\"]=df47FoldPhage[\"phage\"].astype(\"category\")"
   ]
  },
  {
   "cell_type": "markdown",
   "metadata": {},
   "source": [
    "### 3: Combining all data into 1 dataframe"
   ]
  },
  {
   "cell_type": "code",
   "execution_count": 5,
   "metadata": {},
   "outputs": [],
   "source": [
    "df = df3FoldPhage.append(df4FoldPhage)\n",
    "df = df.append(df8FoldPhage)\n",
    "df = df.append(df9FoldPhage)\n",
    "df = df.append(df11FoldPhage)\n",
    "df = df.append(df12FoldPhage)\n",
    "df = df.append(df30FoldPhage)\n",
    "df = df.append(df32FoldPhage)\n",
    "df = df.append(df33FoldPhage)\n",
    "df = df.append(df34FoldPhage)\n",
    "df = df.append(df38FoldPhage)\n",
    "df = df.append(df39FoldPhage)\n",
    "df = df.append(df40FoldPhage)\n",
    "df = df.append(df41FoldPhage)\n",
    "df = df.append(df42FoldPhage)\n",
    "df = df.append(df43FoldPhage)\n",
    "df = df.append(df44FoldPhage)\n",
    "df = df.append(df45FoldPhage)\n",
    "df = df.append(df46FoldPhage)\n",
    "df = df.append(df47FoldPhage)"
   ]
  },
  {
   "cell_type": "markdown",
   "metadata": {},
   "source": [
    "### 4: Creating seperate arrays of the information regarding the relative coverage for (non) phage"
   ]
  },
  {
   "cell_type": "code",
   "execution_count": 6,
   "metadata": {},
   "outputs": [],
   "source": [
    "noneArr = df[df[\"phage\"]==\"none\"][\"fold\"].to_numpy()"
   ]
  },
  {
   "cell_type": "code",
   "execution_count": 7,
   "metadata": {},
   "outputs": [],
   "source": [
    "phageArr = df[df[\"phage\"]!=\"none\"][\"fold\"].to_numpy()"
   ]
  },
  {
   "cell_type": "markdown",
   "metadata": {},
   "source": [
    "### 5: Actual statistics"
   ]
  },
  {
   "cell_type": "code",
   "execution_count": 8,
   "metadata": {},
   "outputs": [],
   "source": [
    "import scipy.stats\n",
    "import numpy as np"
   ]
  },
  {
   "cell_type": "markdown",
   "metadata": {},
   "source": [
    "1. Calculating means & medians"
   ]
  },
  {
   "cell_type": "code",
   "execution_count": 9,
   "metadata": {},
   "outputs": [
    {
     "name": "stdout",
     "output_type": "stream",
     "text": [
      "7.087038954086286\n",
      "0.39923350936428204\n"
     ]
    }
   ],
   "source": [
    "print(np.mean(phageArr))\n",
    "print(np.median(phageArr))"
   ]
  },
  {
   "cell_type": "code",
   "execution_count": 10,
   "metadata": {},
   "outputs": [
    {
     "name": "stdout",
     "output_type": "stream",
     "text": [
      "0.8973848795280644\n",
      "0.49658903882973604\n"
     ]
    }
   ],
   "source": [
    "print(np.mean(noneArr))\n",
    "print(np.median(noneArr))"
   ]
  },
  {
   "cell_type": "markdown",
   "metadata": {},
   "source": [
    "2. Testing normality"
   ]
  },
  {
   "cell_type": "code",
   "execution_count": 11,
   "metadata": {},
   "outputs": [
    {
     "data": {
      "text/plain": [
       "NormaltestResult(statistic=1008408.2321839306, pvalue=0.0)"
      ]
     },
     "execution_count": 11,
     "metadata": {},
     "output_type": "execute_result"
    }
   ],
   "source": [
    "scipy.stats.normaltest(phageArr) ##very non-normal"
   ]
  },
  {
   "cell_type": "code",
   "execution_count": 12,
   "metadata": {},
   "outputs": [
    {
     "data": {
      "text/plain": [
       "NormaltestResult(statistic=238318286.40616637, pvalue=0.0)"
      ]
     },
     "execution_count": 12,
     "metadata": {},
     "output_type": "execute_result"
    }
   ],
   "source": [
    "scipy.stats.normaltest(noneArr) ##very non-normal"
   ]
  },
  {
   "cell_type": "markdown",
   "metadata": {},
   "source": [
    "3. Testing for differences in means between the two populations\n",
    "    - Mann-Whitney U test = Wilcoxon rank-sum test with tie handling and arrays of different sizes in  Python"
   ]
  },
  {
   "cell_type": "code",
   "execution_count": 13,
   "metadata": {},
   "outputs": [
    {
     "data": {
      "text/plain": [
       "MannwhitneyuResult(statistic=161008442694842.0, pvalue=0.0)"
      ]
     },
     "execution_count": 13,
     "metadata": {},
     "output_type": "execute_result"
    }
   ],
   "source": [
    "scipy.stats.mannwhitneyu(noneArr,phageArr,alternative=\"two-sided\") ##two-sided - very significant"
   ]
  },
  {
   "cell_type": "code",
   "execution_count": 14,
   "metadata": {},
   "outputs": [
    {
     "data": {
      "text/plain": [
       "MannwhitneyuResult(statistic=161008442694842.0, pvalue=0.0)"
      ]
     },
     "execution_count": 14,
     "metadata": {},
     "output_type": "execute_result"
    }
   ],
   "source": [
    "scipy.stats.mannwhitneyu(noneArr,phageArr,alternative=\"greater\") ##checking if coverage is greater in phage regions - very significant rejection"
   ]
  },
  {
   "cell_type": "code",
   "execution_count": 20,
   "metadata": {},
   "outputs": [
    {
     "data": {
      "text/plain": [
       "MannwhitneyuResult(statistic=61499215012045.0, pvalue=0.0)"
      ]
     },
     "execution_count": 20,
     "metadata": {},
     "output_type": "execute_result"
    }
   ],
   "source": [
    "##check if this also holds when we only consider intact phages\n",
    "scipy.stats.mannwhitneyu(noneArr,df[df[\"phage\"]==\"intact\"][\"fold\"].to_numpy(),alternative=\"greater\") ##still significantly rejected"
   ]
  },
  {
   "cell_type": "markdown",
   "metadata": {},
   "source": [
    "### 6: Plotting\n",
    "\n",
    "1. Add column for binary phage presence"
   ]
  },
  {
   "cell_type": "code",
   "execution_count": 15,
   "metadata": {},
   "outputs": [],
   "source": [
    "df[\"phagePresent\"]= np.where(df.phage != \"none\", True, False)"
   ]
  },
  {
   "cell_type": "markdown",
   "metadata": {},
   "source": [
    "2. Boxplot: phage presence vs fold"
   ]
  },
  {
   "cell_type": "code",
   "execution_count": 16,
   "metadata": {},
   "outputs": [
    {
     "data": {
      "text/plain": [
       "<matplotlib.axes._subplots.AxesSubplot at 0x1d213b9c348>"
      ]
     },
     "execution_count": 16,
     "metadata": {},
     "output_type": "execute_result"
    },
    {
     "data": {
      "image/png": "[encoded data removed]",
      "text/plain": [
       "<Figure size 432x288 with 1 Axes>"
      ]
     },
     "metadata": {
      "needs_background": "light"
     },
     "output_type": "display_data"
    }
   ],
   "source": [
    "import seaborn \n",
    "seaborn.boxplot(x='phagePresent', y='fold', data=df, showfliers=False, palette='PuRd_r')"
   ]
  },
  {
   "cell_type": "code",
   "execution_count": 17,
   "metadata": {},
   "outputs": [
    {
     "data": {
      "text/plain": [
       "<matplotlib.axes._subplots.AxesSubplot at 0x1d25d46be08>"
      ]
     },
     "execution_count": 17,
     "metadata": {},
     "output_type": "execute_result"
    },
    {
     "data": {
      "image/png": "[encoded data removed]",
      "text/plain": [
       "<Figure size 432x288 with 1 Axes>"
      ]
     },
     "metadata": {
      "needs_background": "light"
     },
     "output_type": "display_data"
    }
   ],
   "source": [
    "seaborn.boxplot(x='phagePresent', y='fold', data=df, showfliers=True, palette='PuRd_r')"
   ]
  }
 ],
 "metadata": {
  "kernelspec": {
   "display_name": "Python 3",
   "language": "python",
   "name": "python3"
  },
  "language_info": {
   "codemirror_mode": {
    "name": "ipython",
    "version": 3
   },
   "file_extension": ".py",
   "mimetype": "text/x-python",
   "name": "python",
   "nbconvert_exporter": "python",
   "pygments_lexer": "ipython3",
   "version": "3.7.6"
  }
 },
 "nbformat": 4,
 "nbformat_minor": 4
}
